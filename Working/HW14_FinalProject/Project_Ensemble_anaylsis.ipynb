{
 "cells": [
  {
   "cell_type": "markdown",
   "source": [
    "# Ensemble Analysis\n",
    "\n",
    "This notebook reads in and formats outputs from ensemble simulations so that you can evaluate and plot"
   ],
   "metadata": {}
  },
  {
   "cell_type": "markdown",
   "source": [
    "### Import packages"
   ],
   "metadata": {}
  },
  {
   "cell_type": "code",
   "execution_count": 11,
   "source": [
    "#import packages\n",
    "import flopy\n",
    "import numpy as np\n",
    "import matplotlib.pyplot as plt\n",
    "import matplotlib as mp\n",
    "import pandas as pd\n",
    "import numpy as np\n",
    "import os\n",
    "\n",
    "\n",
    "#additional analysis tools\n",
    "import flopy.utils.binaryfile as bf\n",
    "from mpl_toolkits.mplot3d import Axes3D\n",
    "from matplotlib import cm\n",
    "from matplotlib.ticker import LinearLocator, FormatStrFormatter\n",
    "\n",
    "\n",
    "np.set_printoptions(threshold=np.inf)\n",
    "\n",
    "#jupyter specific--included to show plots in notebook\n",
    "%matplotlib inline "
   ],
   "outputs": [],
   "metadata": {}
  },
  {
   "cell_type": "markdown",
   "source": [
    "# Setup static variables"
   ],
   "metadata": {}
  },
  {
   "cell_type": "code",
   "execution_count": 12,
   "source": [
    "nrow = 50 #number of rows\n",
    "ncol = 50 #number of columns\n",
    "nlay = 3  #number of layers\n",
    "dx= 1000 #width of grid cells in x direction \n",
    "dy= 1000 #width of grid cells in y direction \n",
    "Lx = ncol*dx  #width of domain in x\n",
    "Ly = nrow*dy #width of domain in y\n",
    "\n",
    "ensembles = [[2,2,2,2,2,2,2],\n",
    "[2,2,2,1,2,2,2], \n",
    "[2,2,2,3,2,2,2],\n",
    "[2,2,2,2,2,2,1],\n",
    "[2,2,2,2,2,2,3],\n",
    "[2,2,2,2,2,1,2],\n",
    "[2,2,2,2,2,3,2],\n",
    "[2,2,2,1,3,3,1],\n",
    "[2,2,2,3,1,1,3],\n",
    "[3,2,2,2,2,2,3],\n",
    "[1,2,2,2,2,2,1]]\n",
    "\n",
    "n_ens = len(ensembles)\n",
    "print(n_ens, 'Ensembles to evaluate')\n"
   ],
   "outputs": [
    {
     "output_type": "stream",
     "name": "stdout",
     "text": [
      "11 Ensembles to evaluate\n"
     ]
    }
   ],
   "metadata": {}
  },
  {
   "cell_type": "markdown",
   "source": [
    "## Read in the heads and create timeseries at points"
   ],
   "metadata": {}
  },
  {
   "cell_type": "code",
   "execution_count": 13,
   "source": [
    "#setup well locations and observation points\n",
    "# To pull outwant the row of observations starting at well location and edge of riparian community @ horizontal point!!!!\n",
    "\n",
    "#town well\n",
    "well_loc = (0,21, 38) #town well \n",
    "welli_loc = (0,12, 14) #ag irrigation well \n",
    "wello_loc = (0, 15, 15)  # ag well\n",
    "river_head = (0,23, 14) # river point\n",
    "\n",
    "#heads_indicator = (0, 12:24, 14) # pull values for the head\n",
    "# array 1 - array 2 / # of cells * distance per meter\n",
    "# plot river point head\n",
    "\n",
    "#setup timeseries\n",
    "head_ts = []  # timeseris of head at town well\n",
    "ag_head_ts = []  # timeseries of head at agg well\n",
    "mw1_head_ts = []  # timeseries of head at observation well\n",
    "\n",
    "# Loop through the ensembles and read the data\n",
    "root_name = 'ensemble_' #root of the run names\n",
    "for i in range(len(ensembles)):\n",
    "    name = root_name  #Create the file name from list \n",
    "    for k in range(len(ensembles[i])):\n",
    "        string = str(ensembles[i][k])\n",
    "        name = name + string   \n",
    "\n",
    "    #read in the head and water budget files\n",
    "    headobj = flopy.utils.binaryfile.HeadFile(name+'.hds')\n",
    "   \n",
    "    #Extract out time series of heads at points of interest\n",
    "    head_ts.append(np.mean(headobj.get_ts(well_loc)))\n",
    "    mw1_head_ts.append(np.mean(headobj.get_ts(wello_loc)))\n",
    "    ag_head_ts.append(np.mean(headobj.get_ts(welli_loc)))\n",
    "    times = headobj.get_times()\n",
    "    #print(budgobj.get_unique_record_names())"
   ],
   "outputs": [],
   "metadata": {}
  },
  {
   "cell_type": "markdown",
   "source": [
    "## Store complete gridded outputs as arrays"
   ],
   "metadata": {}
  },
  {
   "cell_type": "code",
   "execution_count": 14,
   "source": [
    "#setup arrays to store the values\n",
    "head_array = np.zeros((len(ensembles), len(times), nlay, ncol, nrow))\n",
    "frf_array = np.zeros((len(ensembles), len(times), nlay, ncol, nrow))\n",
    "fff_array = np.zeros((len(ensembles), len(times), nlay, ncol, nrow))\n",
    "recharge_array = np.zeros((len(ensembles), len(times), 1, ncol, nrow))\n",
    "et_array = np.zeros((len(ensembles), len(times), 1, ncol, nrow))\n",
    "stor_array = np.zeros((len(ensembles), len(times), 1, ncol, nrow))\n",
    "\n",
    "# Loop through the ensembles and read the data\n",
    "root_name = 'ensemble_' #root of the run names\n",
    "for i in range(len(ensembles)):\n",
    "    name = root_name  #Create the file name from list \n",
    "    for k in range(len(ensembles[i])):\n",
    "        string = str(ensembles[i][k])\n",
    "        name = name + string   \n",
    "\n",
    "    #read in the head and water budget files\n",
    "    headobj = flopy.utils.binaryfile.HeadFile(name+'.hds')\n",
    "    budgobj = flopy.utils.binaryfile.CellBudgetFile(name+'.cbc')   \n",
    "\n",
    "    rowcounter = -1\n",
    "    for t in times:\n",
    "        rowcounter += 1\n",
    "        head_array[i, rowcounter,:, :, :] = headobj.get_data(totim=t)\n",
    "        \n",
    "        tempfrf = np.squeeze(budgobj.get_data(text='flow right face', totim=t))\n",
    "        frf_array[i, rowcounter,:, :, :] = tempfrf\n",
    "        \n",
    "        tempfff = np.squeeze(budgobj.get_data(text='FLOW FRONT FACE', totim=t))\n",
    "        fff_array[i, rowcounter,:, :, :] = tempfff\n",
    "\n",
    "        temprch = np.squeeze(budgobj.get_data(text='RECHARGE', totim=t))\n",
    "        recharge_array[i, rowcounter, :, :, :] = temprch[1]\n",
    "\n",
    "        tempet = np.squeeze(budgobj.get_data(text='ET', totim=t))\n",
    "        et_array[i, rowcounter, :, :, :] = tempet[1]\n"
   ],
   "outputs": [],
   "metadata": {}
  },
  {
   "cell_type": "markdown",
   "source": [
    "## Read in the river leakage"
   ],
   "metadata": {}
  },
  {
   "cell_type": "code",
   "execution_count": 20,
   "source": [
    "#setup arrays to store the values\n",
    "leakage_array = np.zeros((len(ensembles), len(times), 49))\n",
    "\n",
    "# Loop through the ensembles and read the data\n",
    "root_name = 'ensemble_' #root of the run names\n",
    "for i in range(len(ensembles)):\n",
    "    name = root_name  #Create the file name from list \n",
    "    for k in range(len(ensembles[i])):\n",
    "        string = str(ensembles[i][k])\n",
    "        name = name + string   \n",
    "\n",
    "    #water budget files\n",
    "    budgobj = flopy.utils.binaryfile.CellBudgetFile(name+'.cbc')   \n",
    "\n",
    "    rowcounter = -1\n",
    "    for t in times:\n",
    "        rowcounter += 1\n",
    "\n",
    "        templeak = budgobj.get_data(text='RIVER LEAKAGE', totim=t)\n",
    "        leakage_array[i, rowcounter,:] = templeak[0].q\n",
    "print(templeak)"
   ],
   "outputs": [
    {
     "output_type": "stream",
     "name": "stdout",
     "text": [
      "[rec.array([(1202,  125.       ), (1203,  125.       ),\n",
      "           (1204,  125.       ), (1205,  125.       ),\n",
      "           (1206,  114.58614  ), (1207,   85.024796 ),\n",
      "           (1208,   58.790733 ), (1209,   35.423096 ),\n",
      "           (1210,   14.63113  ), (1211,   -3.7581682),\n",
      "           (1212,  -19.87464  ), (1213,  -33.829605 ),\n",
      "           (1214,  -45.680058 ), (1215,  -55.417435 ),\n",
      "           (1216,  -62.945694 ), (1217,  -71.51011  ),\n",
      "           (1218,  -80.898026 ), (1219,  -90.78212  ),\n",
      "           (1220, -100.76797  ), (1221, -110.69615  ),\n",
      "           (1222, -121.30913  ), (1223, -132.8926   ),\n",
      "           (1224, -145.87512  ), (1225, -160.89723  ),\n",
      "           (1226, -134.7018   ), (1227, -110.93416  ),\n",
      "           (1228,  -88.94128  ), (1229,  -68.3349   ),\n",
      "           (1230,  -48.83164  ), (1231,  -30.19564  ),\n",
      "           (1232,  -12.214869 ), (1233,    5.313147 ),\n",
      "           (1234,   22.566462 ), (1235,   39.697712 ),\n",
      "           (1236,   56.821815 ), (1237,   73.82077  ),\n",
      "           (1238,   90.12706  ), (1239,  104.460236 ),\n",
      "           (1240,  115.32258  ), (1241,  124.503    ),\n",
      "           (1242,  125.       ), (1243,  125.       ),\n",
      "           (1244,  125.       ), (1245,  125.       ),\n",
      "           (1246,  125.       ), (1247,  125.       ),\n",
      "           (1248,  125.       ), (1249,  125.       ),\n",
      "           (1250,    0.       )],\n",
      "          dtype=[('node', '<i4'), ('q', '<f4')])]\n"
     ]
    }
   ],
   "metadata": {}
  },
  {
   "cell_type": "markdown",
   "source": [
    "# Plot all ensembles together"
   ],
   "metadata": {}
  },
  {
   "cell_type": "code",
   "execution_count": 16,
   "source": [
    "#Head at Aquaseca well \n",
    "plt.subplot(1, 1, 1)\n",
    "plt.title(\"Head at Aquaseca Well\",fontweight='bold')\n",
    "plt.xlabel('time (years)',fontweight='bold')\n",
    "plt.ylabel('head (m)',fontweight='bold')\n",
    "# plt.ylim(75.2,75.8)\n",
    "for j in range(len(ensembles)):\n",
    "    label = 'Ensemble ' + str(j)\n",
    "    plt.plot(head_ts[j][:, 0]/360, head_ts[j][:, 1], label=label) #plot the time series with points at each record\n",
    "plt.legend(bbox_to_anchor=(1.2, 0.5), loc='center', ncol=1)\n",
    "plt.savefig(\"Head_Aqua_ensem.png\",dpi=600)\n",
    "plt.show()\n"
   ],
   "outputs": [
    {
     "output_type": "display_data",
     "data": {
      "image/png": "[encoded data removed]",
      "text/plain": [
       "<Figure size 432x288 with 1 Axes>"
      ]
     },
     "metadata": {
      "needs_background": "light"
     }
    }
   ],
   "metadata": {}
  },
  {
   "cell_type": "code",
   "execution_count": 17,
   "source": [
    "# Head at observation well\n",
    "plt.subplot(1, 1, 1)\n",
    "plt.title(\"Head at MW1\",fontweight='bold')\n",
    "plt.xlabel('time (days)',fontweight='bold')\n",
    "plt.ylabel('head (m)',fontweight='bold')\n",
    "for j in range(len(ensembles)):\n",
    "    label = 'Ensemble ' + str(j)\n",
    "    plt.plot(mw1_head_ts[j][:, 0]/360, mw1_head_ts[j][:, 1], label=label) #plot the time series with points at each record\n",
    "plt.legend(bbox_to_anchor=(1.2, 0.5), loc='center', ncol=1)\n",
    "plt.savefig(\"Head_M1_ensem.png\",dpi=600)\n",
    "plt.show()"
   ],
   "outputs": [
    {
     "output_type": "display_data",
     "data": {
      "image/png": "[encoded data removed]",
      "text/plain": [
       "<Figure size 432x288 with 1 Axes>"
      ]
     },
     "metadata": {
      "needs_background": "light"
     }
    }
   ],
   "metadata": {}
  },
  {
   "cell_type": "code",
   "execution_count": 18,
   "source": [
    "#Ag Well Plot\n",
    "plt.subplot(1, 1, 1)\n",
    "plt.title(\"Head at Ag Well\",fontweight='bold')\n",
    "plt.xlabel('time (days)',fontweight='bold')\n",
    "plt.ylabel('head (m)',fontweight='bold')\n",
    "for j in range(len(ensembles)):\n",
    "    label = 'Ensemble ' + str(j)\n",
    "    plt.plot(ag_head_ts[j][:, 0]/360, ag_head_ts[j][:, 1], label=label) #plot the time series with points at each record\n",
    "\n",
    "plt.legend(bbox_to_anchor=(1.2, 0.5), loc='center', ncol=1)\n",
    "plt.savefig(\"Head_irri_ensem.png\",dpi=600)\n",
    "plt.show()"
   ],
   "outputs": [
    {
     "output_type": "display_data",
     "data": {
      "image/png": "[encoded data removed]",
      "text/plain": [
       "<Figure size 432x288 with 1 Axes>"
      ]
     },
     "metadata": {
      "needs_background": "light"
     }
    }
   ],
   "metadata": {}
  },
  {
   "cell_type": "markdown",
   "source": [
    "## Alternate approach: Read in variables and store as dictionaries"
   ],
   "metadata": {}
  },
  {
   "cell_type": "code",
   "execution_count": 19,
   "source": [
    "#setup some structures to store data in \n",
    "head = np.tile({}, n_ens)\n",
    "leakage = np.tile({}, n_ens)\n",
    "fff = np.tile({}, n_ens)\n",
    "stor = np.tile({}, n_ens)\n",
    "recharge = np.tile({}, n_ens)\n",
    "et = np.tile({}, n_ens)\n",
    "frf = np.tile({}, n_ens)\n",
    "\n",
    "\n",
    "# Loop through the ensembles and read the data\n",
    "root_name = 'ensemble_' #root of the run names\n",
    "for i in range(len(ensembles)):\n",
    "    name = root_name  #Create the file name from list \n",
    "    for k in range(len(ensembles[i])):\n",
    "        string = str(ensembles[i][k])\n",
    "        name = name + string   \n",
    "                   \n",
    "    head[i] = {}\n",
    "    leakage[i] = {}\n",
    "    fff[i] = {}\n",
    "    stor[i] = {}\n",
    "    recharge[i] = {}\n",
    "    et[i] = {}\n",
    "    frf[i] = {}\n",
    "\n",
    "    #read in the head and water budget files\n",
    "    headobj = flopy.utils.binaryfile.HeadFile(name+'.hds')\n",
    "    budgobj = flopy.utils.binaryfile.CellBudgetFile(name+'.cbc')\n",
    "   \n",
    "    #store the complete arrays in dictionaries\n",
    "    for stress_per, time in enumerate(times): #iterate through times at end of each stress period\n",
    "        head[i]['sp%s'%(stress_per)] = headobj.get_data(totim=time) #append heads to head list for ea stress per\n",
    "        leakage[i]['sp%s'%(stress_per)] = budgobj.get_data(text='RIVER LEAKAGE',totim=time) #append right face flow to frf list for ea stress per\n",
    "        fff[i]['sp%s'%(stress_per)] = budgobj.get_data(text='FLOW FRONT FACE',totim=time) #append front face flow to fff list for ea stress per\n",
    "        frf[i]['sp%s'%(stress_per)] = budgobj.get_data(text='flow right face', totim=time)\n",
    "        stor[i]['sp%s'%(stress_per)] = budgobj.get_data(text='STORAGE',totim=time)\n",
    "        recharge[i]['sp%s'%(stress_per)] = budgobj.get_data(text='RECHARGE', totim=time) \n",
    "        et[i]['sp%s'%(stress_per)] = budgobj.get_data(text='ET', totim=time) "
   ],
   "outputs": [],
   "metadata": {}
  }
 ],
 "metadata": {
  "kernelspec": {
   "name": "python3",
   "display_name": "Python 3.7.12 64-bit ('gwnew37': conda)"
  },
  "language_info": {
   "codemirror_mode": {
    "name": "ipython",
    "version": 3
   },
   "file_extension": ".py",
   "mimetype": "text/x-python",
   "name": "python",
   "nbconvert_exporter": "python",
   "pygments_lexer": "ipython3",
   "version": "3.7.12"
  },
  "interpreter": {
   "hash": "7450e363b1c61efcfd0f70f5772c37b89e3cba3f645802515cb036378d22b852"
  }
 },
 "nbformat": 4,
 "nbformat_minor": 4
}