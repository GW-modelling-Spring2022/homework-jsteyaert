{
 "cells": [
  {
   "cell_type": "markdown",
   "source": [
    "# Ensemble Analysis\n",
    "\n",
    "This notebook reads in and formats outputs from ensemble simulations so that you can evaluate and plot"
   ],
   "metadata": {}
  },
  {
   "cell_type": "markdown",
   "source": [
    "### Import packages"
   ],
   "metadata": {}
  },
  {
   "cell_type": "code",
   "execution_count": 35,
   "source": [
    "#import packages\n",
    "import flopy\n",
    "import numpy as np\n",
    "import matplotlib.pyplot as plt\n",
    "import matplotlib as mp\n",
    "import pandas as pd\n",
    "import numpy as np\n",
    "import os\n",
    "\n",
    "\n",
    "#additional analysis tools\n",
    "import flopy.utils.binaryfile as bf\n",
    "from mpl_toolkits.mplot3d import Axes3D\n",
    "from matplotlib import cm\n",
    "from matplotlib.ticker import LinearLocator, FormatStrFormatter\n",
    "\n",
    "\n",
    "np.set_printoptions(threshold=np.inf)\n",
    "\n",
    "#jupyter specific--included to show plots in notebook\n",
    "%matplotlib inline "
   ],
   "outputs": [],
   "metadata": {}
  },
  {
   "cell_type": "markdown",
   "source": [
    "# Setup static variables"
   ],
   "metadata": {}
  },
  {
   "cell_type": "code",
   "execution_count": 36,
   "source": [
    "nrow = 50 #number of rows\n",
    "ncol = 50 #number of columns\n",
    "nlay = 3  #number of layers\n",
    "dx= 1000 #width of grid cells in x direction \n",
    "dy= 1000 #width of grid cells in y direction \n",
    "Lx = ncol*dx  #width of domain in x\n",
    "Ly = nrow*dy #width of domain in y\n",
    "\n",
    "ensembles = [[2,2,2,2,2,2,2],\n",
    "[2,2,2,1,2,2,2], \n",
    "[2,2,2,3,2,2,2],\n",
    "[2,2,2,2,2,2,1],\n",
    "[2,2,2,2,2,2,3],\n",
    "[2,2,2,2,2,1,2],\n",
    "[2,2,2,2,2,3,2],\n",
    "[2,2,2,1,3,3,1],\n",
    "[2,2,2,3,1,1,3],\n",
    "[3,2,2,2,2,2,3],\n",
    "[1,2,2,2,2,2,1]]\n",
    "\n",
    "n_ens = len(ensembles)\n",
    "print(n_ens, 'Ensembles to evaluate')\n"
   ],
   "outputs": [
    {
     "output_type": "stream",
     "name": "stdout",
     "text": [
      "11 Ensembles to evaluate\n"
     ]
    }
   ],
   "metadata": {}
  },
  {
   "cell_type": "markdown",
   "source": [
    "## Read in the heads and create timeseries at points"
   ],
   "metadata": {}
  },
  {
   "cell_type": "code",
   "execution_count": 37,
   "source": [
    "#setup well locations and observation points\n",
    "# To pull outwant the row of observations starting at well location and edge of riparian community @ horizontal point!!!!\n",
    "en_list = [2222222,\n",
    "2221222, \n",
    "2223222,\n",
    "2222221,\n",
    "2222223,\n",
    "2222212,\n",
    "2222232,\n",
    "2221331,\n",
    "2223113,\n",
    "3222223,\n",
    "1222221]\n",
    "\n",
    "welli_loc = (0,12, 14) #ag irrigation well \n",
    "river_head = (0,23, 14) # river point\n",
    "farm_loc = (0,20,18) # corner nearest to the farm!\n",
    "\n",
    "#setup timeseries\n",
    "final_array = np.zeros(shape = (11,5))\n",
    "\n",
    "print(final_array)\n",
    "ag_head_ts = []  # timeseries of head at agg well\n",
    "ag_farm_head = [] # timeseries at the farm location\n",
    "riv_heads_ts = []\n",
    "# Loop through the ensembles and read the data\n",
    "root_name = 'ensemble_' #root of the run names\n",
    "for i in range(len(ensembles)):\n",
    "    name = root_name  #Create the file name from list \n",
    "    for k in range(len(ensembles[i])):\n",
    "        string = str(ensembles[i][k])\n",
    "        name = name + string   \n",
    "\n",
    "    #read in the head and water budget files\n",
    "    headobj = flopy.utils.binaryfile.HeadFile(name+'.hds')\n",
    "   \n",
    "    #Extract out time series of heads at points of interest\n",
    "    ag_head_ts.append(np.mean(headobj.get_ts(welli_loc)))\n",
    "    riv_heads_ts.append(np.mean(headobj.get_ts(river_head)))\n",
    "    ag_farm_head.append(np.mean(headobj.get_ts(farm_loc)))\n",
    "    times = headobj.get_times()\n",
    "    #print(budgobj.get_unique_record_names())\n",
    "\n",
    "    #print(riv_heads_ts)\n",
    "print(len(en_list))\n",
    "\n",
    "\n",
    "#en_list.append(riv_heads_ts)\n",
    "#print(en_list)\n",
    "\n",
    "print(riv_heads_ts)\n",
    "print(ag_head_ts)"
   ],
   "outputs": [
    {
     "output_type": "stream",
     "name": "stdout",
     "text": [
      "[[0. 0. 0. 0. 0.]\n",
      " [0. 0. 0. 0. 0.]\n",
      " [0. 0. 0. 0. 0.]\n",
      " [0. 0. 0. 0. 0.]\n",
      " [0. 0. 0. 0. 0.]\n",
      " [0. 0. 0. 0. 0.]\n",
      " [0. 0. 0. 0. 0.]\n",
      " [0. 0. 0. 0. 0.]\n",
      " [0. 0. 0. 0. 0.]\n",
      " [0. 0. 0. 0. 0.]\n",
      " [0. 0. 0. 0. 0.]]\n",
      "11\n",
      "[321.0797, 320.94788, 321.20828, 318.2498, 321.19196, 321.09705, 321.06247, 315.04498, 321.26138, 321.16586, 321.7627]\n",
      "[319.70474, 319.20267, 320.19226, 316.9606, 319.91058, 319.72537, 319.6843, 313.68924, 320.35843, 320.13367, 318.6719]\n"
     ]
    }
   ],
   "metadata": {}
  },
  {
   "cell_type": "code",
   "execution_count": 38,
   "source": [
    "# Calculate Slope and Graph\n",
    "# Can plot into excel\n",
    "# variable.write() --> write out into python\n",
    "slope_array = np.subtract(riv_heads_ts,ag_head_ts)/ ((23-12)* dx) # slopes from ag well to river\n",
    "print(slope_array)\n",
    "\n",
    "\n",
    "slopes2 = np.subtract(riv_heads_ts,ag_farm_head)/ ((23-20)* dx) # slopes from farm to river\n",
    "print(slopes2)\n",
    "\n",
    "\n"
   ],
   "outputs": [
    {
     "output_type": "stream",
     "name": "stdout",
     "text": [
      "[1.2499723e-04 1.5865534e-04 9.2365612e-05 1.1719860e-04 1.1648837e-04\n",
      " 1.2469760e-04 1.2528853e-04 1.2324940e-04 8.2086735e-05 9.3836003e-05\n",
      " 2.8098089e-04]\n",
      "[0.0005449  0.00056474 0.00052548 0.00026545 0.00057383 0.00054305\n",
      " 0.00054671 0.00019347 0.00054385 0.00058587 0.00048851]\n"
     ]
    }
   ],
   "metadata": {}
  },
  {
   "cell_type": "markdown",
   "source": [
    "## Read in the river leakage"
   ],
   "metadata": {}
  },
  {
   "cell_type": "code",
   "execution_count": 40,
   "source": [
    "#setup arrays to store the values\n",
    "leakage_array = np.zeros((len(ensembles), len(times), 49))\n",
    "\n",
    "# Loop through the ensembles and read the data\n",
    "root_name = 'ensemble_' #root of the run names\n",
    "for i in range(len(ensembles)):\n",
    "    name = root_name  #Create the file name from list \n",
    "    for k in range(len(ensembles[i])):\n",
    "        string = str(ensembles[i][k])\n",
    "        name = name + string   \n",
    "\n",
    "    #water budget files\n",
    "    budgobj = flopy.utils.binaryfile.CellBudgetFile(name+'.cbc')   \n",
    "\n",
    "    rowcounter = -1\n",
    "    for t in times:\n",
    "        rowcounter += 1\n",
    "\n",
    "        templeak = budgobj.get_data(text='RIVER LEAKAGE', totim=t) # \n",
    "        leakage_array[i, rowcounter,:] = templeak[0].q\n",
    "\n",
    "leakage_all = np.sum(leakage_array, axis = (1,2))/61 # sum up across entire time series across all cells ( divide by total time steps to get avg river leakage)\n",
    "\n",
    "\n",
    "# Add All Variables to the final_array so it plots nicely\n",
    "for l in range(len(ensembles)):\n",
    "   final_array[l,0]= en_list[l]\n",
    "   final_array[l,1] = riv_heads_ts[l]\n",
    "   final_array[l,2] = slope_array[l]\n",
    "   final_array[l,3] = slopes2[l]\n",
    "   final_array[l,4] = leakage_all[l]\n",
    "\n",
    "# Write out CSV\n",
    "pd.DataFrame(final_array).to_csv('metrics.csv')\n",
    "#np.savetxt('test.csv', en_list, delimiter=\",\")\n",
    "\n",
    "# Ways to Plot\n",
    "# 1. Difference between Scenarios ( Average across all params, all results plotted by scenario ( 4 colors) )\n",
    "# 2. Param space sensitivity ( Pick on scenario and plot)"
   ],
   "outputs": [],
   "metadata": {}
  },
  {
   "cell_type": "code",
   "execution_count": null,
   "source": [],
   "outputs": [],
   "metadata": {}
  }
 ],
 "metadata": {
  "kernelspec": {
   "name": "python3",
   "display_name": "Python 3.7.12 64-bit ('gwnew37': conda)"
  },
  "language_info": {
   "codemirror_mode": {
    "name": "ipython",
    "version": 3
   },
   "file_extension": ".py",
   "mimetype": "text/x-python",
   "name": "python",
   "nbconvert_exporter": "python",
   "pygments_lexer": "ipython3",
   "version": "3.7.12"
  },
  "interpreter": {
   "hash": "7450e363b1c61efcfd0f70f5772c37b89e3cba3f645802515cb036378d22b852"
  }
 },
 "nbformat": 4,
 "nbformat_minor": 4
}